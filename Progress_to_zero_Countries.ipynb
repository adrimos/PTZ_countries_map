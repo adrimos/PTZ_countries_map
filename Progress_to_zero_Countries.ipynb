{
 "cells": [
  {
   "cell_type": "markdown",
   "metadata": {},
   "source": [
    "# P0: COVID-19 Progress to zero metric - Countries"
   ]
  },
  {
   "cell_type": "markdown",
   "metadata": {},
   "source": [
    "P0 metric defined by: \n",
    "Juan M. Lavista Ferres MSCa1 , Ruth B Etzioni PhDb2 and William B. Weeks MD, MBA, PhDc1\n",
    "\n",
    "Data Visualization by Adriana Moscatelli"
   ]
  },
  {
   "cell_type": "code",
   "execution_count": null,
   "metadata": {},
   "outputs": [],
   "source": [
    "import pandas as pd\n",
    "import numpy as np"
   ]
  },
  {
   "cell_type": "markdown",
   "metadata": {},
   "source": [
    "## Data Source: European Centre for Disease Prevention and Control"
   ]
  },
  {
   "cell_type": "code",
   "execution_count": 3,
   "metadata": {},
   "outputs": [],
   "source": [
    "master_data_EDC = pd.read_csv('https://opendata.ecdc.europa.eu/covid19/casedistribution/csv')"
   ]
  },
  {
   "cell_type": "code",
   "execution_count": null,
   "metadata": {},
   "outputs": [],
   "source": [
    "import plotly.express as px\n",
    "fig = px.bar(master_data_EDC, x=master_data_EDC.loc[master_data_EDC['countriesAndTerritories'] == 'South_Korea']['dateRep'], \n",
    "y=master_data_EDC.loc[master_data_EDC['countriesAndTerritories'] == 'Brazil']['cases'])\n",
    "fig.update_xaxes(autorange=\"reversed\")\n",
    "fig.show()\n",
    "\n",
    "master_data_EDC.loc[master_data_EDC['countriesAndTerritories']=='Brazil']['cases'].sum()"
   ]
  },
  {
   "cell_type": "markdown",
   "metadata": {},
   "source": [
    "### Calculation of the latest progress to zero (PO) datapoint.\n",
    "\n",
    "P0 at time i is defined one minus the ratio of A(i) to B(i), where A is the 7-day\n",
    "moving average of new cases ending at day i and B is the 7-day moving average of\n",
    "new cases corresponding to the historical peak. The measure could be defined using\n",
    "a shorter interval for the moving average, or it could be defined using a weighted\n",
    "moving average, but to illustrate the idea, we use a simple 7-day moving average.\n",
    "Because the measure would not be stable with small numbers of cases, we recommend limiting measure application to geographies with at least 100 COVID-19\n",
    "cases confirmed within a region.\n",
    "Defining a 7-day moving average of cases and i as the current day - 6, the calculations\n",
    "are provided below:"
   ]
  },
  {
   "cell_type": "markdown",
   "metadata": {},
   "source": [
    "\\begin{equation*}\n",
    "[1] ma(j) <- \\frac{1}{7}\\sum_{k=j-6}^{j} newcases[k]\n",
    "\\end{equation*}"
   ]
  },
  {
   "cell_type": "markdown",
   "metadata": {},
   "source": [
    "\\begin{equation*}\n",
    "[2] P0=1-(\\frac{ma(i)}{max(ma(7),...,ma(i))})\n",
    "\\end{equation*}"
   ]
  },
  {
   "cell_type": "code",
   "execution_count": 4,
   "metadata": {},
   "outputs": [],
   "source": [
    "# Rename date column to be consistent with US table on Progress_to_zero_US\n",
    "master_data_EDC = master_data_EDC.rename(columns={\"dateRep\": \"Date\"})\n",
    "\n",
    "# We convert the Date column into Date/Time so we can find the max/latest date. It is also needed for the groupby operation later\n",
    "import datetime as dt\n",
    "master_data_EDC['Date'] = master_data_EDC['Date'].apply(lambda x:dt.datetime.strptime(x,'%d/%m/%Y'))"
   ]
  },
  {
   "cell_type": "code",
   "execution_count": 5,
   "metadata": {},
   "outputs": [],
   "source": [
    "# We remove the _ from country names. Important for the map visualization\n",
    "master_data_EDC[\"countriesAndTerritories\"] = master_data_EDC[\"countriesAndTerritories\"].str.replace(r'_', ' ')"
   ]
  },
  {
   "cell_type": "code",
   "execution_count": 6,
   "metadata": {},
   "outputs": [],
   "source": [
    "# We add a column named geo_level to be used for the filtering in powerbi\n",
    "master_data_EDC[\"geo_level\"] = 'Country'"
   ]
  },
  {
   "cell_type": "code",
   "execution_count": 7,
   "metadata": {},
   "outputs": [],
   "source": [
    "# Fix Taiwan's country code\n",
    "master_data_EDC = master_data_EDC.replace('CNG1925','TWN')"
   ]
  },
  {
   "cell_type": "code",
   "execution_count": 8,
   "metadata": {},
   "outputs": [],
   "source": [
    "# Fix error for Spain. The report date is max-1day\n",
    "#master_data_EDC['Date'] = master_data_EDC[master_data_EDC['countriesAndTerritories'] == 'Spain']['Date'].apply(pd.DateOffset(1))]\n",
    "\n",
    "master_data_EDC.loc[(master_data_EDC['countriesAndTerritories'] == 'Spain'), 'Date'] = master_data_EDC['Date'].apply(pd.DateOffset(1))\n",
    "\n",
    "\n",
    "#df.loc[(df.Event == 'Dance'),'Event']='Hip-Hop'"
   ]
  },
  {
   "cell_type": "code",
   "execution_count": null,
   "metadata": {},
   "outputs": [],
   "source": [
    "master_data_EDC[master_data_EDC['countriesAndTerritories'] == 'Spain']['Date'].apply(pd.DateOffset(1))"
   ]
  },
  {
   "cell_type": "markdown",
   "metadata": {},
   "source": [
    "## Progress to Zero at the Country level"
   ]
  },
  {
   "cell_type": "code",
   "execution_count": null,
   "metadata": {},
   "outputs": [],
   "source": [
    "# For consistency with US PTZ table we rename cases to Confirmed and deaths to Deaths\n",
    "master_data_EDC = master_data_EDC.rename(columns={\"cases\": \"Confirmed\"})\n",
    "master_data_EDC = master_data_EDC.rename(columns={\"deaths\": \"Deaths\"})\n",
    "\n",
    "# We calculate the 7 day moving average for confirmed and deaths for all countries\n",
    "master_data_EDC['Confirmed_moving_average'] = master_data_EDC.groupby('countriesAndTerritories')['Confirmed'].transform(lambda x: x.rolling(7, 7).mean().shift(-7))\n",
    "master_data_EDC['Deaths_moving_average'] = master_data_EDC.groupby('countriesAndTerritories')['Deaths'].transform(lambda x: x.rolling(7, 7).mean().shift(-7))"
   ]
  },
  {
   "cell_type": "code",
   "execution_count": null,
   "metadata": {},
   "outputs": [],
   "source": [
    "# master_data_EDC['geoId'].isnull().values.any()\n",
    "# master_data_EDC['countriesAndTerritories'].isnull().values.any()\n",
    "# master_data_EDC['countryterritoryCode'].isnull().values.any()"
   ]
  },
  {
   "cell_type": "code",
   "execution_count": null,
   "metadata": {},
   "outputs": [],
   "source": [
    "# master_data_EDC.countriesAndTerritories.unique()"
   ]
  },
  {
   "cell_type": "code",
   "execution_count": null,
   "metadata": {},
   "outputs": [],
   "source": [
    "# Get the peak value of the moving average at the Country level\n",
    "peak_confirmed_countries = master_data_EDC.groupby('countriesAndTerritories')['Confirmed_moving_average'].max()\n",
    "master_data_EDC['Peak_confirmed'] = master_data_EDC['countriesAndTerritories'].map(peak_confirmed_countries)\n",
    "\n",
    "peak_deaths_countries = master_data_EDC.groupby('countriesAndTerritories')['Deaths_moving_average'].max()\n",
    "master_data_EDC['Peak_deaths'] = master_data_EDC['countriesAndTerritories'].map(peak_deaths_countries)"
   ]
  },
  {
   "cell_type": "code",
   "execution_count": null,
   "metadata": {},
   "outputs": [],
   "source": [
    "# Get the latest average value\n",
    "# We find the last date - 6 and store the value\n",
    "from datetime import datetime, timedelta\n",
    "last_obs_countries = master_data_EDC['Date'].max()\n",
    "# last_obs_countries = master_data_EDC['Date'].max() - timedelta(days=6)\n",
    "\n",
    "last_avg_confirmed = master_data_EDC.loc[master_data_EDC['Date'] == last_obs_countries, 'Confirmed_moving_average']\n",
    "master_data_EDC['Last_avg_obs_confirmed'] = last_avg_confirmed\n",
    "\n",
    "last_avg_deaths = master_data_EDC.loc[master_data_EDC['Date'] == last_obs_countries, 'Deaths_moving_average']\n",
    "master_data_EDC['Last_avg_obs_deaths'] = last_avg_deaths"
   ]
  },
  {
   "cell_type": "code",
   "execution_count": null,
   "metadata": {},
   "outputs": [],
   "source": [
    "# Compute the Progress to Zero metric for confirmed cases and deaths averages and the peak for countries\n",
    "master_data_EDC['Progress_to_zero_confirmed'] = 1 - (master_data_EDC['Confirmed_moving_average']/master_data_EDC['Peak_confirmed'])\n",
    "master_data_EDC['Progress_to_zero_deaths'] = 1 - (master_data_EDC['Deaths_moving_average']/master_data_EDC['Peak_deaths'])"
   ]
  },
  {
   "cell_type": "code",
   "execution_count": null,
   "metadata": {},
   "outputs": [],
   "source": [
    "# Cleaning values. We only want to see Progress to Zero for the last observation\n",
    "master_data_EDC.loc[master_data_EDC.Last_avg_obs_confirmed.isnull(), 'Peak_confirmed'] = master_data_EDC.Last_avg_obs_confirmed\n",
    "\n",
    "master_data_EDC.loc[master_data_EDC.Last_avg_obs_deaths.isnull(), 'Peak_deaths'] = master_data_EDC.Last_avg_obs_deaths\n",
    "\n",
    "master_data_EDC.loc[master_data_EDC.Last_avg_obs_confirmed.isnull(), 'Progress_to_zero_confirmed'] = master_data_EDC.Last_avg_obs_confirmed\n",
    "\n",
    "master_data_EDC.loc[master_data_EDC.Last_avg_obs_deaths.isnull(), 'Progress_to_zero_deaths'] = master_data_EDC.Last_avg_obs_deaths"
   ]
  },
  {
   "cell_type": "code",
   "execution_count": null,
   "metadata": {},
   "outputs": [],
   "source": [
    "# master_data_EDC['popData2018'] = pd.to_numeric(master_data_EDC['popData2018'], errors='coerce')"
   ]
  },
  {
   "cell_type": "code",
   "execution_count": null,
   "metadata": {},
   "outputs": [],
   "source": [
    "master_data_EDC = master_data_EDC.round(2)"
   ]
  },
  {
   "cell_type": "code",
   "execution_count": null,
   "metadata": {},
   "outputs": [],
   "source": [
    "master_data_EDC.dtypes"
   ]
  },
  {
   "cell_type": "code",
   "execution_count": null,
   "metadata": {},
   "outputs": [],
   "source": [
    "master_data_EDC.to_csv('progress_to_zero_metric_Countries.csv')"
   ]
  },
  {
   "cell_type": "code",
   "execution_count": null,
   "metadata": {},
   "outputs": [],
   "source": [
    "import plotly.graph_objects as go\n",
    "\n",
    "PTZ_countries = master_data_EDC[\n",
    "    (master_data_EDC['Date'] == last_obs_countries)][['countriesAndTerritories', 'Progress_to_zero_confirmed', 'countryterritoryCode']]\n",
    "\n",
    "loc_countries = PTZ_countries[\"countriesAndTerritories\"]\n",
    "\n",
    "fig = go.Figure(data=go.Choropleth(\n",
    "    locations=PTZ_countries['countryterritoryCode'],\n",
    "    z=PTZ_countries['Progress_to_zero_confirmed'],\n",
    "    colorscale='matter',\n",
    "    reversescale=True,\n",
    "    autocolorscale=False,\n",
    "    marker_line_color='#ebccd6',\n",
    "    colorbar = dict(title='Percentage',\n",
    "                    tickformat = ',.0%'),\n",
    "    hoverlabel = dict(font=dict(size=16)),\n",
    "    showlegend = True,\n",
    "    text = loc_countries,\n",
    "    hovertemplate = ' %{text} P0 = <b>%{z: ,.0%}</b><extra></extra>',\n",
    "))\n",
    "\n",
    "fig.update_layout(\n",
    "    title_text='<a href = https://www.medrxiv.org/content/10.1101/2020.05.21.20109298/><b>P0: Progress to zero</b> </a><br><i>A simple metric to measure COVID-19 progress by country/region</i><br>P0 corresponds to the percentage decline from a previously recorded peak level.<br> The metric ranges from 0% (representing a geography that has not yet peaked) to 100% <br>(representing a geography wherein 0 cases have been recorded for at least seven days).',\n",
    "    font = dict(size=10),\n",
    "    margin=dict(l=20, r=20, t=160, b=20),\n",
    "    geo = dict(\n",
    "        showframe=False,\n",
    "        showcoastlines=False,\n",
    "        projection_type='equirectangular'),\n",
    "    showlegend=False,\n",
    "    annotations = [dict(xref='paper',\n",
    "                        yref='paper',\n",
    "                        x=0, y=-0.02,\n",
    "                        showarrow=False,\n",
    "                        text ='Data: ECDC - Updated: '+ str(last_obs_countries.strftime('%Y-%d-%m')))]\n",
    ")\n",
    "\n",
    "\n",
    "fig.show(displayModeBar=False)\n",
    "\n",
    "import plotly.io as pio\n",
    "pio.write_html(fig, file='Index.html', auto_open=True)\n",
    "\n",
    "import os\n",
    "\n",
    "if not os.path.exists(\"images\"):\n",
    "    os.mkdir(\"images\")\n",
    "    \n",
    "fig.write_image(\"images/PTZ_countries_map.png\")"
   ]
  }
 ],
 "metadata": {
  "language_info": {
   "codemirror_mode": {
    "name": "ipython",
    "version": 3
   },
   "file_extension": ".py",
   "mimetype": "text/x-python",
   "name": "python",
   "nbconvert_exporter": "python",
   "pygments_lexer": "ipython3",
   "version": "3.8.2-final"
  },
  "orig_nbformat": 2,
  "kernelspec": {
   "name": "python3",
   "display_name": "Python 3"
  }
 },
 "nbformat": 4,
 "nbformat_minor": 2
}